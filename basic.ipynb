{
 "cells": [
  {
   "cell_type": "code",
   "execution_count": 1,
   "metadata": {},
   "outputs": [],
   "source": [
    "import torch\n",
    "import torch.nn as nn\n",
    "import torch.nn.functional as F\n",
    "import torchvision\n",
    "import torchvision.transforms as transforms\n",
    "import torchvision.datasets as datasets\n",
    "from torch.utils.data import DataLoader,random_split,Dataset\n",
    "import torch.optim as optim\n",
    "from tqdm import tqdm"
   ]
  },
  {
   "cell_type": "code",
   "execution_count": 2,
   "metadata": {},
   "outputs": [],
   "source": [
    "trainset = datasets.CIFAR10(root='/home/aminul/data1/', train=True, download=False, transform=transforms.ToTensor())\n",
    "testset = datasets.CIFAR10(root='/home/aminul/data1/', train=False, download=False, transform=transforms.ToTensor())\n",
    "\n",
    "labels_list = ['airplane','automobile','bird','cat','deer','dog','frog','horse','ship','truck']\n",
    "non_animal = [0,1,8,9]\n",
    "device = 'cuda:1'"
   ]
  },
  {
   "cell_type": "code",
   "execution_count": 3,
   "metadata": {},
   "outputs": [],
   "source": [
    "class NewDataset(Dataset):\n",
    "    \n",
    "    def __init__(self,data,transform=None):\n",
    "        self.data = data\n",
    "        \n",
    "    def __len__(self):\n",
    "        return len(self.data)    \n",
    "    \n",
    "    def __getitem__(self,idx):\n",
    "        image = self.data[idx][0]\n",
    "        label1 = self.data[idx][1]          #original label \n",
    "        label2 = 0 if self.data[idx][1] in non_animal else 1       #animal or non-animal\n",
    "        label3 = 0 if self.data[idx][1] > 5 else 1   #random labels\n",
    "        return image, label1, label2, label3"
   ]
  },
  {
   "cell_type": "code",
   "execution_count": 4,
   "metadata": {},
   "outputs": [],
   "source": [
    "new_trainset = NewDataset(trainset,non_animal)\n",
    "new_testset = NewDataset(testset,non_animal)\n",
    "\n",
    "train_loader = DataLoader(new_trainset, batch_size=100, shuffle=True)\n",
    "test_loader = DataLoader(new_testset, batch_size=100, shuffle=True)"
   ]
  },
  {
   "cell_type": "code",
   "execution_count": 5,
   "metadata": {},
   "outputs": [],
   "source": [
    "class Net(nn.Module):\n",
    "    def __init__(self, input_channel, num_class):\n",
    "        super(Net,self).__init__()\n",
    "        \n",
    "        self.classes = num_class\n",
    "        \n",
    "        self.conv1 = nn.Conv2d(in_channels=input_channel,out_channels=8,kernel_size=3,stride=1)\n",
    "        self.conv2 = nn.Conv2d(in_channels=8,out_channels=16,kernel_size=3,stride=1)\n",
    "        self.fc1 = nn.Linear(64, 256)\n",
    "        self.dropout1 = nn.Dropout(0.3)\n",
    "        self.fc2 = nn.Linear(256,128)\n",
    "        self.dropout2 = nn.Dropout(0.3)\n",
    "        \n",
    "        self.fc3 = nn.Linear(128, self.classes[0])\n",
    "        self.fc4 = nn.Linear(128, self.classes[1])\n",
    "        self.fc5 = nn.Linear(128, self.classes[2])\n",
    "        \n",
    "    def forward(self, x):\n",
    "        \n",
    "        x = F.max_pool2d(F.relu(self.conv1(x)),kernel_size=3)\n",
    "        x = F.max_pool2d(F.relu(self.conv2(x)),kernel_size=3)\n",
    "        x = F.relu(self.fc1(x.reshape(-1,x.shape[1] * x.shape[2]*x.shape[3])))\n",
    "        x = self.dropout1(x)\n",
    "        x = F.relu(self.fc2(x))\n",
    "        x = self.dropout2(x)\n",
    "        x1 = self.fc3(x)\n",
    "        x2 = self.fc4(x)\n",
    "        x3 = self.fc5(x)\n",
    "        \n",
    "        return x1,x2,x3 "
   ]
  },
  {
   "cell_type": "code",
   "execution_count": 6,
   "metadata": {},
   "outputs": [],
   "source": [
    "num_classes = [10,2,2]\n",
    "net = Net(3,num_classes).to(device)\n",
    "\n",
    "criterion = nn.CrossEntropyLoss()\n",
    "optimizer = optim.SGD(net.parameters(), lr=0.001,momentum=0.9, weight_decay=5e-4)"
   ]
  },
  {
   "cell_type": "code",
   "execution_count": 7,
   "metadata": {},
   "outputs": [],
   "source": [
    "def train(net,trainloader,optim,criterion,epoch,device):\n",
    "    net.train()\n",
    "    train_loss,total,total_correct1,total_correct2,total_correct3 = 0,0,0,0,0\n",
    "    \n",
    "    for i,(inputs,tg1,tg2,tg3) in enumerate(tqdm(trainloader)):\n",
    "        \n",
    "        inputs,tg1,tg2,tg3 = inputs.to(device), tg1.to(device), tg2.to(device), tg3.to(device)\n",
    "        optim.zero_grad()\n",
    "        \n",
    "        op1,op2,op3 = net(inputs)\n",
    "        loss1 = criterion(op1,tg1)\n",
    "        loss2 = criterion(op2,tg2)\n",
    "        loss3 = criterion(op3,tg3)\n",
    "        \n",
    "        loss1.backward(retain_graph=True)\n",
    "        loss2.backward(retain_graph=True)\n",
    "        loss3.backward()\n",
    "        \n",
    "        optim.step()\n",
    "        \n",
    "        train_loss += loss1.item() + loss2.item() + loss3.item()\n",
    "        _,pd1 = torch.max(op1.data,1)\n",
    "        _,pd2 = torch.max(op2.data,1)\n",
    "        _,pd3 = torch.max(op3.data,1)\n",
    "        total_correct1 += (pd1 == tg1).sum().item()\n",
    "        total_correct2 += (pd2 == tg2).sum().item()\n",
    "        total_correct3 += (pd3 == tg3).sum().item()\n",
    "        total += tg1.size(0)\n",
    "    \n",
    "    print(\"Epoch: [{}]  loss: [{:.2f}] Orig_Acc [{:.2f}] animal_Acc [{:.2f}] random_Acc [{:.2f}] \".format\n",
    "                                                                          (epoch+1,train_loss/(i+1),\n",
    "                                                                           (total_correct1*100/total),\n",
    "                                                                          (total_correct2*100/total)\n",
    "                                                                         ,(total_correct3*100/total)))\n",
    "    return train_loss/(i+1)"
   ]
  },
  {
   "cell_type": "code",
   "execution_count": 8,
   "metadata": {},
   "outputs": [],
   "source": [
    "def tester(net,testloader,optim,criterion,epoch,device):\n",
    "    net.eval()\n",
    "    test_loss,total,total_correct1,total_correct2,total_correct3 = 0,0,0,0,0\n",
    "    \n",
    "    for i,(inputs,tg1,tg2,tg3) in enumerate(tqdm(testloader)):\n",
    "        \n",
    "        inputs,tg1,tg2,tg3 = inputs.to(device), tg1.to(device), tg2.to(device), tg3.to(device)\n",
    "        \n",
    "        op1,op2,op3 = net(inputs)\n",
    "        loss1 = criterion(op1,tg1)\n",
    "        loss2 = criterion(op2,tg2)\n",
    "        loss3 = criterion(op3,tg3)\n",
    "        \n",
    "        test_loss += loss1.item() + loss2.item() + loss3.item()\n",
    "        _,pd1 = torch.max(op1.data,1)\n",
    "        _,pd2 = torch.max(op2.data,1)\n",
    "        _,pd3 = torch.max(op3.data,1)\n",
    "        total_correct1 += (pd1 == tg1).sum().item()\n",
    "        total_correct2 += (pd2 == tg2).sum().item()\n",
    "        total_correct3 += (pd3 == tg3).sum().item()\n",
    "        total += tg1.size(0)\n",
    "        \n",
    "    acc1 = 100. * total_correct1 / total\n",
    "    acc2 = 100. * total_correct2 / total\n",
    "    acc3 = 100. * total_correct3 / total\n",
    "    print(\"\\nTest Epoch #%d Loss: %.4f Orig_Acc: %.2f%% animal_Acc: %.2f%% random_Acc: %.2f%%\" %(epoch+1,\n",
    "                                                                                                  test_loss/(i+1),\n",
    "                                                                                                  acc1,acc2,acc3))\n",
    "        \n",
    "    return test_loss/(i+1), acc1, acc2, acc3"
   ]
  },
  {
   "cell_type": "code",
   "execution_count": 9,
   "metadata": {},
   "outputs": [
    {
     "name": "stderr",
     "output_type": "stream",
     "text": [
      "100%|██████████| 500/500 [00:36<00:00, 13.79it/s]\n",
      "  2%|▏         | 2/100 [00:00<00:06, 14.54it/s]"
     ]
    },
    {
     "name": "stdout",
     "output_type": "stream",
     "text": [
      "Epoch: [1]  loss: [3.65] Orig_Acc [9.97] animal_Acc [59.87] random_Acc [60.00] \n"
     ]
    },
    {
     "name": "stderr",
     "output_type": "stream",
     "text": [
      "100%|██████████| 100/100 [00:06<00:00, 16.12it/s]\n",
      "  0%|          | 2/500 [00:00<00:35, 14.21it/s]"
     ]
    },
    {
     "name": "stdout",
     "output_type": "stream",
     "text": [
      "\n",
      "Test Epoch #1 Loss: 3.6406 Orig_Acc: 10.49% animal_Acc: 60.00% random_Acc: 60.00%\n"
     ]
    },
    {
     "name": "stderr",
     "output_type": "stream",
     "text": [
      "100%|██████████| 500/500 [00:34<00:00, 14.29it/s]\n",
      "  2%|▏         | 2/100 [00:00<00:05, 16.78it/s]"
     ]
    },
    {
     "name": "stdout",
     "output_type": "stream",
     "text": [
      "Epoch: [2]  loss: [3.63] Orig_Acc [11.40] animal_Acc [60.16] random_Acc [60.00] \n"
     ]
    },
    {
     "name": "stderr",
     "output_type": "stream",
     "text": [
      "100%|██████████| 100/100 [00:06<00:00, 16.61it/s]\n",
      "  0%|          | 2/500 [00:00<00:37, 13.30it/s]"
     ]
    },
    {
     "name": "stdout",
     "output_type": "stream",
     "text": [
      "\n",
      "Test Epoch #2 Loss: 3.5974 Orig_Acc: 14.51% animal_Acc: 61.83% random_Acc: 60.00%\n"
     ]
    },
    {
     "name": "stderr",
     "output_type": "stream",
     "text": [
      "100%|██████████| 500/500 [00:34<00:00, 14.50it/s]\n",
      "  2%|▏         | 2/100 [00:00<00:05, 17.32it/s]"
     ]
    },
    {
     "name": "stdout",
     "output_type": "stream",
     "text": [
      "Epoch: [3]  loss: [3.50] Orig_Acc [16.26] animal_Acc [72.20] random_Acc [59.95] \n"
     ]
    },
    {
     "name": "stderr",
     "output_type": "stream",
     "text": [
      "100%|██████████| 100/100 [00:06<00:00, 16.62it/s]\n",
      "  0%|          | 2/500 [00:00<00:33, 15.04it/s]"
     ]
    },
    {
     "name": "stdout",
     "output_type": "stream",
     "text": [
      "\n",
      "Test Epoch #3 Loss: 3.3345 Orig_Acc: 18.38% animal_Acc: 77.88% random_Acc: 59.98%\n"
     ]
    },
    {
     "name": "stderr",
     "output_type": "stream",
     "text": [
      "100%|██████████| 500/500 [00:35<00:00, 14.28it/s]\n",
      "  2%|▏         | 2/100 [00:00<00:05, 16.99it/s]"
     ]
    },
    {
     "name": "stdout",
     "output_type": "stream",
     "text": [
      "Epoch: [4]  loss: [3.25] Orig_Acc [19.88] animal_Acc [79.65] random_Acc [60.06] \n"
     ]
    },
    {
     "name": "stderr",
     "output_type": "stream",
     "text": [
      "100%|██████████| 100/100 [00:06<00:00, 16.37it/s]\n",
      "  0%|          | 2/500 [00:00<00:33, 15.04it/s]"
     ]
    },
    {
     "name": "stdout",
     "output_type": "stream",
     "text": [
      "\n",
      "Test Epoch #4 Loss: 3.1083 Orig_Acc: 22.03% animal_Acc: 82.63% random_Acc: 61.36%\n"
     ]
    },
    {
     "name": "stderr",
     "output_type": "stream",
     "text": [
      "100%|██████████| 500/500 [00:34<00:00, 14.38it/s]\n",
      "  2%|▏         | 2/100 [00:00<00:06, 15.91it/s]"
     ]
    },
    {
     "name": "stdout",
     "output_type": "stream",
     "text": [
      "Epoch: [5]  loss: [3.06] Orig_Acc [22.00] animal_Acc [83.33] random_Acc [60.57] \n"
     ]
    },
    {
     "name": "stderr",
     "output_type": "stream",
     "text": [
      "100%|██████████| 100/100 [00:06<00:00, 15.15it/s]\n",
      "  0%|          | 2/500 [00:00<00:32, 15.15it/s]"
     ]
    },
    {
     "name": "stdout",
     "output_type": "stream",
     "text": [
      "\n",
      "Test Epoch #5 Loss: 2.9630 Orig_Acc: 24.82% animal_Acc: 84.60% random_Acc: 61.61%\n"
     ]
    },
    {
     "name": "stderr",
     "output_type": "stream",
     "text": [
      "100%|██████████| 500/500 [00:34<00:00, 14.62it/s]\n",
      "  2%|▏         | 2/100 [00:00<00:05, 16.45it/s]"
     ]
    },
    {
     "name": "stdout",
     "output_type": "stream",
     "text": [
      "Epoch: [6]  loss: [2.95] Orig_Acc [24.13] animal_Acc [85.21] random_Acc [60.78] \n"
     ]
    },
    {
     "name": "stderr",
     "output_type": "stream",
     "text": [
      "100%|██████████| 100/100 [00:06<00:00, 15.83it/s]\n",
      "  0%|          | 2/500 [00:00<00:43, 11.42it/s]"
     ]
    },
    {
     "name": "stdout",
     "output_type": "stream",
     "text": [
      "\n",
      "Test Epoch #6 Loss: 2.8499 Orig_Acc: 28.27% animal_Acc: 87.04% random_Acc: 62.40%\n"
     ]
    },
    {
     "name": "stderr",
     "output_type": "stream",
     "text": [
      "100%|██████████| 500/500 [00:34<00:00, 14.31it/s]\n",
      "  2%|▏         | 2/100 [00:00<00:06, 14.37it/s]"
     ]
    },
    {
     "name": "stdout",
     "output_type": "stream",
     "text": [
      "Epoch: [7]  loss: [2.89] Orig_Acc [26.15] animal_Acc [86.40] random_Acc [61.14] \n"
     ]
    },
    {
     "name": "stderr",
     "output_type": "stream",
     "text": [
      "100%|██████████| 100/100 [00:06<00:00, 16.59it/s]\n",
      "  0%|          | 2/500 [00:00<00:37, 13.11it/s]"
     ]
    },
    {
     "name": "stdout",
     "output_type": "stream",
     "text": [
      "\n",
      "Test Epoch #7 Loss: 2.8008 Orig_Acc: 29.35% animal_Acc: 87.75% random_Acc: 62.87%\n"
     ]
    },
    {
     "name": "stderr",
     "output_type": "stream",
     "text": [
      "100%|██████████| 500/500 [00:34<00:00, 14.45it/s]\n",
      "  2%|▏         | 2/100 [00:00<00:06, 14.26it/s]"
     ]
    },
    {
     "name": "stdout",
     "output_type": "stream",
     "text": [
      "Epoch: [8]  loss: [2.85] Orig_Acc [27.56] animal_Acc [86.74] random_Acc [61.56] \n"
     ]
    },
    {
     "name": "stderr",
     "output_type": "stream",
     "text": [
      "100%|██████████| 100/100 [00:06<00:00, 16.41it/s]\n",
      "  0%|          | 2/500 [00:00<00:43, 11.44it/s]"
     ]
    },
    {
     "name": "stdout",
     "output_type": "stream",
     "text": [
      "\n",
      "Test Epoch #8 Loss: 2.7904 Orig_Acc: 30.62% animal_Acc: 86.06% random_Acc: 63.44%\n"
     ]
    },
    {
     "name": "stderr",
     "output_type": "stream",
     "text": [
      "100%|██████████| 500/500 [00:34<00:00, 14.51it/s]\n",
      "  2%|▏         | 2/100 [00:00<00:06, 15.92it/s]"
     ]
    },
    {
     "name": "stdout",
     "output_type": "stream",
     "text": [
      "Epoch: [9]  loss: [2.79] Orig_Acc [29.54] animal_Acc [87.15] random_Acc [62.31] \n"
     ]
    },
    {
     "name": "stderr",
     "output_type": "stream",
     "text": [
      "100%|██████████| 100/100 [00:06<00:00, 15.32it/s]\n",
      "  0%|          | 2/500 [00:00<00:36, 13.74it/s]"
     ]
    },
    {
     "name": "stdout",
     "output_type": "stream",
     "text": [
      "\n",
      "Test Epoch #9 Loss: 2.7002 Orig_Acc: 32.62% animal_Acc: 88.23% random_Acc: 62.93%\n"
     ]
    },
    {
     "name": "stderr",
     "output_type": "stream",
     "text": [
      "100%|██████████| 500/500 [00:34<00:00, 14.36it/s]\n",
      "  2%|▏         | 2/100 [00:00<00:05, 17.86it/s]"
     ]
    },
    {
     "name": "stdout",
     "output_type": "stream",
     "text": [
      "Epoch: [10]  loss: [2.76] Orig_Acc [31.01] animal_Acc [87.26] random_Acc [62.53] \n"
     ]
    },
    {
     "name": "stderr",
     "output_type": "stream",
     "text": [
      "100%|██████████| 100/100 [00:06<00:00, 16.26it/s]\n",
      "  0%|          | 2/500 [00:00<00:39, 12.68it/s]"
     ]
    },
    {
     "name": "stdout",
     "output_type": "stream",
     "text": [
      "\n",
      "Test Epoch #10 Loss: 2.6560 Orig_Acc: 34.27% animal_Acc: 88.35% random_Acc: 65.29%\n"
     ]
    },
    {
     "name": "stderr",
     "output_type": "stream",
     "text": [
      "100%|██████████| 500/500 [00:34<00:00, 14.40it/s]\n",
      "  2%|▏         | 2/100 [00:00<00:05, 17.72it/s]"
     ]
    },
    {
     "name": "stdout",
     "output_type": "stream",
     "text": [
      "Epoch: [11]  loss: [2.71] Orig_Acc [32.78] animal_Acc [87.61] random_Acc [63.52] \n"
     ]
    },
    {
     "name": "stderr",
     "output_type": "stream",
     "text": [
      "100%|██████████| 100/100 [00:06<00:00, 16.29it/s]\n",
      "  0%|          | 2/500 [00:00<00:39, 12.63it/s]"
     ]
    },
    {
     "name": "stdout",
     "output_type": "stream",
     "text": [
      "\n",
      "Test Epoch #11 Loss: 2.7431 Orig_Acc: 33.71% animal_Acc: 85.12% random_Acc: 65.81%\n"
     ]
    },
    {
     "name": "stderr",
     "output_type": "stream",
     "text": [
      "100%|██████████| 500/500 [00:34<00:00, 14.45it/s]\n",
      "  2%|▏         | 2/100 [00:00<00:06, 15.82it/s]"
     ]
    },
    {
     "name": "stdout",
     "output_type": "stream",
     "text": [
      "Epoch: [12]  loss: [2.68] Orig_Acc [34.30] animal_Acc [87.97] random_Acc [64.23] \n"
     ]
    },
    {
     "name": "stderr",
     "output_type": "stream",
     "text": [
      "100%|██████████| 100/100 [00:06<00:00, 15.44it/s]\n",
      "  0%|          | 2/500 [00:00<00:40, 12.43it/s]"
     ]
    },
    {
     "name": "stdout",
     "output_type": "stream",
     "text": [
      "\n",
      "Test Epoch #12 Loss: 2.5785 Orig_Acc: 36.75% animal_Acc: 88.70% random_Acc: 66.23%\n"
     ]
    },
    {
     "name": "stderr",
     "output_type": "stream",
     "text": [
      "100%|██████████| 500/500 [00:35<00:00, 14.17it/s]\n",
      "  2%|▏         | 2/100 [00:00<00:06, 16.11it/s]"
     ]
    },
    {
     "name": "stdout",
     "output_type": "stream",
     "text": [
      "Epoch: [13]  loss: [2.64] Orig_Acc [35.51] animal_Acc [88.09] random_Acc [65.02] \n"
     ]
    },
    {
     "name": "stderr",
     "output_type": "stream",
     "text": [
      "100%|██████████| 100/100 [00:06<00:00, 15.98it/s]\n",
      "  0%|          | 2/500 [00:00<00:37, 13.34it/s]"
     ]
    },
    {
     "name": "stdout",
     "output_type": "stream",
     "text": [
      "\n",
      "Test Epoch #13 Loss: 2.5440 Orig_Acc: 38.48% animal_Acc: 88.90% random_Acc: 66.90%\n"
     ]
    },
    {
     "name": "stderr",
     "output_type": "stream",
     "text": [
      "100%|██████████| 500/500 [00:34<00:00, 14.38it/s]\n",
      "  2%|▏         | 2/100 [00:00<00:06, 14.64it/s]"
     ]
    },
    {
     "name": "stdout",
     "output_type": "stream",
     "text": [
      "Epoch: [14]  loss: [2.62] Orig_Acc [36.15] animal_Acc [88.38] random_Acc [65.33] \n"
     ]
    },
    {
     "name": "stderr",
     "output_type": "stream",
     "text": [
      "100%|██████████| 100/100 [00:06<00:00, 16.19it/s]\n",
      "  0%|          | 2/500 [00:00<00:33, 14.81it/s]"
     ]
    },
    {
     "name": "stdout",
     "output_type": "stream",
     "text": [
      "\n",
      "Test Epoch #14 Loss: 2.5392 Orig_Acc: 38.50% animal_Acc: 88.32% random_Acc: 67.17%\n"
     ]
    },
    {
     "name": "stderr",
     "output_type": "stream",
     "text": [
      "100%|██████████| 500/500 [00:34<00:00, 14.49it/s]\n",
      "  2%|▏         | 2/100 [00:00<00:06, 16.07it/s]"
     ]
    },
    {
     "name": "stdout",
     "output_type": "stream",
     "text": [
      "Epoch: [15]  loss: [2.59] Orig_Acc [37.09] animal_Acc [88.35] random_Acc [65.69] \n"
     ]
    },
    {
     "name": "stderr",
     "output_type": "stream",
     "text": [
      "100%|██████████| 100/100 [00:06<00:00, 16.28it/s]\n",
      "  0%|          | 2/500 [00:00<00:35, 14.20it/s]"
     ]
    },
    {
     "name": "stdout",
     "output_type": "stream",
     "text": [
      "\n",
      "Test Epoch #15 Loss: 2.4967 Orig_Acc: 39.69% animal_Acc: 89.00% random_Acc: 67.78%\n"
     ]
    },
    {
     "name": "stderr",
     "output_type": "stream",
     "text": [
      "100%|██████████| 500/500 [00:34<00:00, 14.70it/s]\n",
      "  2%|▏         | 2/100 [00:00<00:05, 17.68it/s]"
     ]
    },
    {
     "name": "stdout",
     "output_type": "stream",
     "text": [
      "Epoch: [16]  loss: [2.58] Orig_Acc [37.53] animal_Acc [88.37] random_Acc [66.13] \n"
     ]
    },
    {
     "name": "stderr",
     "output_type": "stream",
     "text": [
      "100%|██████████| 100/100 [00:05<00:00, 16.92it/s]\n",
      "  0%|          | 2/500 [00:00<00:37, 13.25it/s]"
     ]
    },
    {
     "name": "stdout",
     "output_type": "stream",
     "text": [
      "\n",
      "Test Epoch #16 Loss: 2.4914 Orig_Acc: 40.39% animal_Acc: 88.85% random_Acc: 68.01%\n"
     ]
    },
    {
     "name": "stderr",
     "output_type": "stream",
     "text": [
      "100%|██████████| 500/500 [00:34<00:00, 14.38it/s]\n",
      "  2%|▏         | 2/100 [00:00<00:05, 16.49it/s]"
     ]
    },
    {
     "name": "stdout",
     "output_type": "stream",
     "text": [
      "Epoch: [17]  loss: [2.56] Orig_Acc [37.93] animal_Acc [88.30] random_Acc [66.45] \n"
     ]
    },
    {
     "name": "stderr",
     "output_type": "stream",
     "text": [
      "100%|██████████| 100/100 [00:06<00:00, 16.01it/s]\n",
      "  0%|          | 2/500 [00:00<00:41, 11.88it/s]"
     ]
    },
    {
     "name": "stdout",
     "output_type": "stream",
     "text": [
      "\n",
      "Test Epoch #17 Loss: 2.4563 Orig_Acc: 40.94% animal_Acc: 89.37% random_Acc: 69.01%\n"
     ]
    },
    {
     "name": "stderr",
     "output_type": "stream",
     "text": [
      "100%|██████████| 500/500 [00:34<00:00, 14.46it/s]\n",
      "  2%|▏         | 2/100 [00:00<00:05, 17.48it/s]"
     ]
    },
    {
     "name": "stdout",
     "output_type": "stream",
     "text": [
      "Epoch: [18]  loss: [2.54] Orig_Acc [38.78] animal_Acc [88.64] random_Acc [66.85] \n"
     ]
    },
    {
     "name": "stderr",
     "output_type": "stream",
     "text": [
      "100%|██████████| 100/100 [00:05<00:00, 17.04it/s]\n",
      "  0%|          | 2/500 [00:00<00:33, 14.95it/s]"
     ]
    },
    {
     "name": "stdout",
     "output_type": "stream",
     "text": [
      "\n",
      "Test Epoch #18 Loss: 2.4433 Orig_Acc: 40.72% animal_Acc: 89.51% random_Acc: 68.82%\n"
     ]
    },
    {
     "name": "stderr",
     "output_type": "stream",
     "text": [
      "100%|██████████| 500/500 [00:34<00:00, 14.59it/s]\n",
      "  2%|▏         | 2/100 [00:00<00:05, 17.78it/s]"
     ]
    },
    {
     "name": "stdout",
     "output_type": "stream",
     "text": [
      "Epoch: [19]  loss: [2.52] Orig_Acc [39.30] animal_Acc [88.66] random_Acc [67.09] \n"
     ]
    },
    {
     "name": "stderr",
     "output_type": "stream",
     "text": [
      "100%|██████████| 100/100 [00:06<00:00, 16.32it/s]\n",
      "  0%|          | 2/500 [00:00<00:38, 12.93it/s]"
     ]
    },
    {
     "name": "stdout",
     "output_type": "stream",
     "text": [
      "\n",
      "Test Epoch #19 Loss: 2.4188 Orig_Acc: 41.71% animal_Acc: 89.43% random_Acc: 70.15%\n"
     ]
    },
    {
     "name": "stderr",
     "output_type": "stream",
     "text": [
      "100%|██████████| 500/500 [00:34<00:00, 14.43it/s]\n",
      "  2%|▏         | 2/100 [00:00<00:06, 14.46it/s]"
     ]
    },
    {
     "name": "stdout",
     "output_type": "stream",
     "text": [
      "Epoch: [20]  loss: [2.50] Orig_Acc [39.90] animal_Acc [88.75] random_Acc [67.35] \n"
     ]
    },
    {
     "name": "stderr",
     "output_type": "stream",
     "text": [
      "100%|██████████| 100/100 [00:05<00:00, 16.85it/s]"
     ]
    },
    {
     "name": "stdout",
     "output_type": "stream",
     "text": [
      "\n",
      "Test Epoch #20 Loss: 2.4025 Orig_Acc: 42.32% animal_Acc: 89.41% random_Acc: 69.88%\n"
     ]
    },
    {
     "name": "stderr",
     "output_type": "stream",
     "text": [
      "\n"
     ]
    }
   ],
   "source": [
    "num_epochs = 20\n",
    "train_loss,test_loss = [],[]\n",
    "\n",
    "for epoch in range(num_epochs):\n",
    "    \n",
    "    a = train(net,train_loader,optimizer,criterion,epoch,device)\n",
    "    c,_,_,_ = tester(net,test_loader,optimizer,criterion,epoch,device)    \n",
    "    \n",
    "    train_loss.append(a), test_loss.append(c)"
   ]
  },
  {
   "cell_type": "code",
   "execution_count": null,
   "metadata": {},
   "outputs": [],
   "source": []
  },
  {
   "cell_type": "code",
   "execution_count": null,
   "metadata": {},
   "outputs": [],
   "source": []
  }
 ],
 "metadata": {
  "kernelspec": {
   "display_name": "CV",
   "language": "python",
   "name": "cv"
  },
  "language_info": {
   "codemirror_mode": {
    "name": "ipython",
    "version": 3
   },
   "file_extension": ".py",
   "mimetype": "text/x-python",
   "name": "python",
   "nbconvert_exporter": "python",
   "pygments_lexer": "ipython3",
   "version": "3.7.9"
  }
 },
 "nbformat": 4,
 "nbformat_minor": 4
}
