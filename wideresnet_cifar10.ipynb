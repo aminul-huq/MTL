{
 "cells": [
  {
   "cell_type": "code",
   "execution_count": 1,
   "metadata": {},
   "outputs": [],
   "source": [
    "import torch\n",
    "import torch.nn as nn\n",
    "import torch.nn.functional as F\n",
    "import torchvision\n",
    "import torchvision.transforms as transforms\n",
    "import torchvision.datasets as datasets\n",
    "from torch.utils.data import DataLoader,random_split,Dataset\n",
    "import torch.optim as optim\n",
    "from tqdm import tqdm\n",
    "from wideresnet import *\n"
   ]
  },
  {
   "cell_type": "code",
   "execution_count": 2,
   "metadata": {},
   "outputs": [],
   "source": [
    "trainset = datasets.CIFAR10(root='/home/aminul/data1/', train=True, download=False, transform=transforms.ToTensor())\n",
    "testset = datasets.CIFAR10(root='/home/aminul/data1/', train=False, download=False, transform=transforms.ToTensor())\n",
    "\n",
    "labels_list = ['airplane','automobile','bird','cat','deer','dog','frog','horse','ship','truck']\n",
    "non_animal = [0,1,8,9]\n",
    "device = 'cuda:0'"
   ]
  },
  {
   "cell_type": "code",
   "execution_count": 3,
   "metadata": {},
   "outputs": [],
   "source": [
    "class NewDataset(Dataset):\n",
    "    \n",
    "    def __init__(self,data,transform=None):\n",
    "        self.data = data\n",
    "        \n",
    "    def __len__(self):\n",
    "        return len(self.data)    \n",
    "    \n",
    "    def __getitem__(self,idx):\n",
    "        image = self.data[idx][0]\n",
    "        label1 = self.data[idx][1]\n",
    "        label2 = 0 if self.data[idx][1] in non_animal else 1\n",
    "        label3 = 0 if self.data[idx][1] > 5 else 1\n",
    "        return image, label1, label2, label3"
   ]
  },
  {
   "cell_type": "code",
   "execution_count": 4,
   "metadata": {},
   "outputs": [],
   "source": [
    "new_trainset = NewDataset(trainset,non_animal)\n",
    "new_testset = NewDataset(testset,non_animal)\n",
    "\n",
    "train_loader = DataLoader(new_trainset, batch_size=100, shuffle=True)\n",
    "test_loader = DataLoader(new_testset, batch_size=100, shuffle=True)"
   ]
  },
  {
   "cell_type": "code",
   "execution_count": 6,
   "metadata": {},
   "outputs": [],
   "source": [
    "def train(net,trainloader,optim,criterion,epoch,device):\n",
    "    net.train()\n",
    "    train_loss,total,total_correct1,total_correct2,total_correct3 = 0,0,0,0,0\n",
    "    \n",
    "    for i,(inputs,tg1,tg2,tg3) in enumerate(tqdm(trainloader)):\n",
    "        \n",
    "        inputs,tg1,tg2,tg3 = inputs.to(device), tg1.to(device), tg2.to(device), tg3.to(device)\n",
    "        optim.zero_grad()\n",
    "        \n",
    "        op1,op2,op3 = net(inputs)\n",
    "        loss1 = criterion(op1,tg1)\n",
    "        loss2 = criterion(op2,tg2)\n",
    "        loss3 = criterion(op3,tg3)\n",
    "        \n",
    "        loss1.backward(retain_graph=True)\n",
    "        loss2.backward(retain_graph=True)\n",
    "        loss3.backward()\n",
    "        \n",
    "        optim.step()\n",
    "        \n",
    "        train_loss += loss1.item() + loss2.item() + loss3.item()\n",
    "        _,pd1 = torch.max(op1.data,1)\n",
    "        _,pd2 = torch.max(op2.data,1)\n",
    "        _,pd3 = torch.max(op3.data,1)\n",
    "        total_correct1 += (pd1 == tg1).sum().item()\n",
    "        total_correct2 += (pd2 == tg2).sum().item()\n",
    "        total_correct3 += (pd3 == tg3).sum().item()\n",
    "        total += tg1.size(0)\n",
    "    \n",
    "    print(\"Epoch: [{}]  loss: [{:.2f}] Orig_Acc [{:.2f}] animal_Acc [{:.2f}] random_Acc [{:.2f}] \".format\n",
    "                                                                          (epoch+1,train_loss/(i+1),\n",
    "                                                                           (total_correct1*100/total),\n",
    "                                                                          (total_correct2*100/total)\n",
    "                                                                         ,(total_correct3*100/total)))\n",
    "    return train_loss/(i+1)"
   ]
  },
  {
   "cell_type": "code",
   "execution_count": 7,
   "metadata": {},
   "outputs": [],
   "source": [
    "def tester(net,testloader,optim,criterion,epoch,device):\n",
    "    net.eval()\n",
    "    test_loss,total,total_correct1,total_correct2,total_correct3 = 0,0,0,0,0\n",
    "    \n",
    "    for i,(inputs,tg1,tg2,tg3) in enumerate(tqdm(testloader)):\n",
    "        \n",
    "        inputs,tg1,tg2,tg3 = inputs.to(device), tg1.to(device), tg2.to(device), tg3.to(device)\n",
    "        optim.zero_grad()\n",
    "        \n",
    "        op1,op2,op3 = net(inputs)\n",
    "        loss1 = criterion(op1,tg1)\n",
    "        loss2 = criterion(op2,tg2)\n",
    "        loss3 = criterion(op3,tg3)\n",
    "        \n",
    "        test_loss += loss1.item() + loss2.item() + loss3.item()\n",
    "        _,pd1 = torch.max(op1.data,1)\n",
    "        _,pd2 = torch.max(op2.data,1)\n",
    "        _,pd3 = torch.max(op3.data,1)\n",
    "        total_correct1 += (pd1 == tg1).sum().item()\n",
    "        total_correct2 += (pd2 == tg2).sum().item()\n",
    "        total_correct3 += (pd3 == tg3).sum().item()\n",
    "        total += tg1.size(0)\n",
    "        \n",
    "    acc1 = 100. * total_correct1 / total\n",
    "    acc2 = 100. * total_correct2 / total\n",
    "    acc3 = 100. * total_correct3 / total\n",
    "    print(\"\\nTest Epoch #%d Loss: %.4f Orig_Acc: %.2f%% animal_Acc: %.2f%% random_Acc: %.2f%%\" %(epoch+1,\n",
    "                                                                                                  test_loss/(i+1),\n",
    "                                                                                                  acc1,acc2,acc3))\n",
    "        \n",
    "    return test_loss/(i+1), acc1, acc2, acc3"
   ]
  },
  {
   "cell_type": "code",
   "execution_count": 8,
   "metadata": {},
   "outputs": [],
   "source": [
    "total_classes = [10,2,2]\n",
    "net = WideResNet(depth=28,num_classes = total_classes,widen_factor=10).to(device)\n",
    "\n",
    "criterion = nn.CrossEntropyLoss()\n",
    "optimizer = optim.SGD(net.parameters(), lr=0.001,momentum=0.9, weight_decay=5e-4)"
   ]
  },
  {
   "cell_type": "code",
   "execution_count": 9,
   "metadata": {},
   "outputs": [
    {
     "name": "stderr",
     "output_type": "stream",
     "text": [
      "100%|██████████| 500/500 [04:53<00:00,  1.70it/s]\n",
      "  1%|          | 1/100 [00:00<00:15,  6.28it/s]"
     ]
    },
    {
     "name": "stdout",
     "output_type": "stream",
     "text": [
      "Epoch: [1]  loss: [2.71] Orig_Acc [34.07] animal_Acc [85.98] random_Acc [65.96] \n"
     ]
    },
    {
     "name": "stderr",
     "output_type": "stream",
     "text": [
      "100%|██████████| 100/100 [00:13<00:00,  7.55it/s]\n",
      "  0%|          | 0/500 [00:00<?, ?it/s]"
     ]
    },
    {
     "name": "stdout",
     "output_type": "stream",
     "text": [
      "\n",
      "Test Epoch #1 Loss: 2.3915 Orig_Acc: 41.36% animal_Acc: 90.61% random_Acc: 69.56%\n"
     ]
    },
    {
     "name": "stderr",
     "output_type": "stream",
     "text": [
      "100%|██████████| 500/500 [04:52<00:00,  1.71it/s]\n",
      "  1%|          | 1/100 [00:00<00:12,  7.90it/s]"
     ]
    },
    {
     "name": "stdout",
     "output_type": "stream",
     "text": [
      "Epoch: [2]  loss: [2.09] Orig_Acc [49.90] animal_Acc [91.81] random_Acc [74.10] \n"
     ]
    },
    {
     "name": "stderr",
     "output_type": "stream",
     "text": [
      "100%|██████████| 100/100 [00:13<00:00,  7.40it/s]\n",
      "  0%|          | 0/500 [00:00<?, ?it/s]"
     ]
    },
    {
     "name": "stdout",
     "output_type": "stream",
     "text": [
      "\n",
      "Test Epoch #2 Loss: 2.1370 Orig_Acc: 49.43% animal_Acc: 89.74% random_Acc: 75.84%\n"
     ]
    },
    {
     "name": "stderr",
     "output_type": "stream",
     "text": [
      "100%|██████████| 500/500 [04:54<00:00,  1.70it/s]\n",
      "  1%|          | 1/100 [00:00<00:12,  7.85it/s]"
     ]
    },
    {
     "name": "stdout",
     "output_type": "stream",
     "text": [
      "Epoch: [3]  loss: [1.73] Orig_Acc [59.50] animal_Acc [93.32] random_Acc [79.91] \n"
     ]
    },
    {
     "name": "stderr",
     "output_type": "stream",
     "text": [
      "100%|██████████| 100/100 [00:13<00:00,  7.47it/s]\n",
      "  0%|          | 0/500 [00:00<?, ?it/s]"
     ]
    },
    {
     "name": "stdout",
     "output_type": "stream",
     "text": [
      "\n",
      "Test Epoch #3 Loss: 1.7864 Orig_Acc: 57.34% animal_Acc: 93.59% random_Acc: 78.93%\n"
     ]
    },
    {
     "name": "stderr",
     "output_type": "stream",
     "text": [
      "100%|██████████| 500/500 [04:53<00:00,  1.71it/s]\n",
      "  1%|          | 1/100 [00:00<00:12,  7.84it/s]"
     ]
    },
    {
     "name": "stdout",
     "output_type": "stream",
     "text": [
      "Epoch: [4]  loss: [1.47] Orig_Acc [65.50] animal_Acc [94.45] random_Acc [83.89] \n"
     ]
    },
    {
     "name": "stderr",
     "output_type": "stream",
     "text": [
      "100%|██████████| 100/100 [00:13<00:00,  7.66it/s]\n",
      "  0%|          | 0/500 [00:00<?, ?it/s]"
     ]
    },
    {
     "name": "stdout",
     "output_type": "stream",
     "text": [
      "\n",
      "Test Epoch #4 Loss: 3.4077 Orig_Acc: 43.65% animal_Acc: 88.02% random_Acc: 60.06%\n"
     ]
    },
    {
     "name": "stderr",
     "output_type": "stream",
     "text": [
      "100%|██████████| 500/500 [04:53<00:00,  1.70it/s]\n",
      "  1%|          | 1/100 [00:00<00:12,  7.92it/s]"
     ]
    },
    {
     "name": "stdout",
     "output_type": "stream",
     "text": [
      "Epoch: [5]  loss: [1.27] Orig_Acc [70.04] animal_Acc [95.29] random_Acc [86.82] \n"
     ]
    },
    {
     "name": "stderr",
     "output_type": "stream",
     "text": [
      "100%|██████████| 100/100 [00:13<00:00,  7.65it/s]\n",
      "  0%|          | 0/500 [00:00<?, ?it/s]"
     ]
    },
    {
     "name": "stdout",
     "output_type": "stream",
     "text": [
      "\n",
      "Test Epoch #5 Loss: 1.6184 Orig_Acc: 62.21% animal_Acc: 94.23% random_Acc: 80.08%\n"
     ]
    },
    {
     "name": "stderr",
     "output_type": "stream",
     "text": [
      "100%|██████████| 500/500 [04:53<00:00,  1.71it/s]\n",
      "  1%|          | 1/100 [00:00<00:12,  7.88it/s]"
     ]
    },
    {
     "name": "stdout",
     "output_type": "stream",
     "text": [
      "Epoch: [6]  loss: [1.09] Orig_Acc [74.06] animal_Acc [95.97] random_Acc [89.19] \n"
     ]
    },
    {
     "name": "stderr",
     "output_type": "stream",
     "text": [
      "100%|██████████| 100/100 [00:12<00:00,  7.79it/s]\n",
      "  0%|          | 0/500 [00:00<?, ?it/s]"
     ]
    },
    {
     "name": "stdout",
     "output_type": "stream",
     "text": [
      "\n",
      "Test Epoch #6 Loss: 1.2777 Orig_Acc: 70.44% animal_Acc: 95.32% random_Acc: 86.02%\n"
     ]
    },
    {
     "name": "stderr",
     "output_type": "stream",
     "text": [
      "100%|██████████| 500/500 [04:52<00:00,  1.71it/s]\n",
      "  1%|          | 1/100 [00:00<00:12,  7.95it/s]"
     ]
    },
    {
     "name": "stdout",
     "output_type": "stream",
     "text": [
      "Epoch: [7]  loss: [0.92] Orig_Acc [77.81] animal_Acc [96.54] random_Acc [91.68] \n"
     ]
    },
    {
     "name": "stderr",
     "output_type": "stream",
     "text": [
      "100%|██████████| 100/100 [00:13<00:00,  7.69it/s]\n",
      "  0%|          | 0/500 [00:00<?, ?it/s]"
     ]
    },
    {
     "name": "stdout",
     "output_type": "stream",
     "text": [
      "\n",
      "Test Epoch #7 Loss: 1.4999 Orig_Acc: 69.02% animal_Acc: 93.25% random_Acc: 83.41%\n"
     ]
    },
    {
     "name": "stderr",
     "output_type": "stream",
     "text": [
      "100%|██████████| 500/500 [04:53<00:00,  1.70it/s]\n",
      "  1%|          | 1/100 [00:00<00:14,  6.81it/s]"
     ]
    },
    {
     "name": "stdout",
     "output_type": "stream",
     "text": [
      "Epoch: [8]  loss: [0.77] Orig_Acc [80.87] animal_Acc [97.11] random_Acc [93.49] \n"
     ]
    },
    {
     "name": "stderr",
     "output_type": "stream",
     "text": [
      "100%|██████████| 100/100 [00:13<00:00,  7.39it/s]\n",
      "  0%|          | 0/500 [00:00<?, ?it/s]"
     ]
    },
    {
     "name": "stdout",
     "output_type": "stream",
     "text": [
      "\n",
      "Test Epoch #8 Loss: 1.5193 Orig_Acc: 69.23% animal_Acc: 95.13% random_Acc: 81.99%\n"
     ]
    },
    {
     "name": "stderr",
     "output_type": "stream",
     "text": [
      "100%|██████████| 500/500 [04:52<00:00,  1.71it/s]\n",
      "  1%|          | 1/100 [00:00<00:12,  7.90it/s]"
     ]
    },
    {
     "name": "stdout",
     "output_type": "stream",
     "text": [
      "Epoch: [9]  loss: [0.63] Orig_Acc [83.93] animal_Acc [97.55] random_Acc [95.42] \n"
     ]
    },
    {
     "name": "stderr",
     "output_type": "stream",
     "text": [
      "100%|██████████| 100/100 [00:12<00:00,  7.85it/s]\n",
      "  0%|          | 0/500 [00:00<?, ?it/s]"
     ]
    },
    {
     "name": "stdout",
     "output_type": "stream",
     "text": [
      "\n",
      "Test Epoch #9 Loss: 1.9477 Orig_Acc: 67.62% animal_Acc: 93.22% random_Acc: 80.18%\n"
     ]
    },
    {
     "name": "stderr",
     "output_type": "stream",
     "text": [
      "100%|██████████| 500/500 [04:53<00:00,  1.71it/s]\n",
      "  1%|          | 1/100 [00:00<00:12,  7.87it/s]"
     ]
    },
    {
     "name": "stdout",
     "output_type": "stream",
     "text": [
      "Epoch: [10]  loss: [0.51] Orig_Acc [86.76] animal_Acc [98.19] random_Acc [96.98] \n"
     ]
    },
    {
     "name": "stderr",
     "output_type": "stream",
     "text": [
      "100%|██████████| 100/100 [00:13<00:00,  7.57it/s]\n",
      "  0%|          | 0/500 [00:00<?, ?it/s]"
     ]
    },
    {
     "name": "stdout",
     "output_type": "stream",
     "text": [
      "\n",
      "Test Epoch #10 Loss: 1.4635 Orig_Acc: 70.54% animal_Acc: 95.56% random_Acc: 85.96%\n"
     ]
    },
    {
     "name": "stderr",
     "output_type": "stream",
     "text": [
      "100%|██████████| 500/500 [04:53<00:00,  1.70it/s]\n",
      "  1%|          | 1/100 [00:00<00:12,  7.90it/s]"
     ]
    },
    {
     "name": "stdout",
     "output_type": "stream",
     "text": [
      "Epoch: [11]  loss: [0.41] Orig_Acc [89.12] animal_Acc [98.50] random_Acc [97.73] \n"
     ]
    },
    {
     "name": "stderr",
     "output_type": "stream",
     "text": [
      "100%|██████████| 100/100 [00:13<00:00,  7.56it/s]\n",
      "  0%|          | 0/500 [00:00<?, ?it/s]"
     ]
    },
    {
     "name": "stdout",
     "output_type": "stream",
     "text": [
      "\n",
      "Test Epoch #11 Loss: 1.5558 Orig_Acc: 70.80% animal_Acc: 95.16% random_Acc: 85.27%\n"
     ]
    },
    {
     "name": "stderr",
     "output_type": "stream",
     "text": [
      "100%|██████████| 500/500 [04:52<00:00,  1.71it/s]\n",
      "  1%|          | 1/100 [00:00<00:12,  7.84it/s]"
     ]
    },
    {
     "name": "stdout",
     "output_type": "stream",
     "text": [
      "Epoch: [12]  loss: [0.33] Orig_Acc [91.27] animal_Acc [99.00] random_Acc [98.35] \n"
     ]
    },
    {
     "name": "stderr",
     "output_type": "stream",
     "text": [
      "100%|██████████| 100/100 [00:13<00:00,  7.57it/s]\n",
      "  0%|          | 0/500 [00:00<?, ?it/s]"
     ]
    },
    {
     "name": "stdout",
     "output_type": "stream",
     "text": [
      "\n",
      "Test Epoch #12 Loss: 1.3832 Orig_Acc: 74.23% animal_Acc: 95.64% random_Acc: 86.84%\n"
     ]
    },
    {
     "name": "stderr",
     "output_type": "stream",
     "text": [
      "100%|██████████| 500/500 [04:53<00:00,  1.70it/s]\n",
      "  1%|          | 1/100 [00:00<00:13,  7.18it/s]"
     ]
    },
    {
     "name": "stdout",
     "output_type": "stream",
     "text": [
      "Epoch: [13]  loss: [0.27] Orig_Acc [93.05] animal_Acc [99.21] random_Acc [98.64] \n"
     ]
    },
    {
     "name": "stderr",
     "output_type": "stream",
     "text": [
      "100%|██████████| 100/100 [00:13<00:00,  7.51it/s]\n",
      "  0%|          | 0/500 [00:00<?, ?it/s]"
     ]
    },
    {
     "name": "stdout",
     "output_type": "stream",
     "text": [
      "\n",
      "Test Epoch #13 Loss: 1.4643 Orig_Acc: 74.80% animal_Acc: 95.42% random_Acc: 86.74%\n"
     ]
    },
    {
     "name": "stderr",
     "output_type": "stream",
     "text": [
      "100%|██████████| 500/500 [04:54<00:00,  1.70it/s]\n",
      "  1%|          | 1/100 [00:00<00:12,  7.85it/s]"
     ]
    },
    {
     "name": "stdout",
     "output_type": "stream",
     "text": [
      "Epoch: [14]  loss: [0.20] Orig_Acc [94.74] animal_Acc [99.55] random_Acc [99.03] \n"
     ]
    },
    {
     "name": "stderr",
     "output_type": "stream",
     "text": [
      "100%|██████████| 100/100 [00:13<00:00,  7.54it/s]\n",
      "  0%|          | 0/500 [00:00<?, ?it/s]"
     ]
    },
    {
     "name": "stdout",
     "output_type": "stream",
     "text": [
      "\n",
      "Test Epoch #14 Loss: 2.4584 Orig_Acc: 68.37% animal_Acc: 95.62% random_Acc: 81.49%\n"
     ]
    },
    {
     "name": "stderr",
     "output_type": "stream",
     "text": [
      "100%|██████████| 500/500 [04:53<00:00,  1.70it/s]\n",
      "  1%|          | 1/100 [00:00<00:12,  7.84it/s]"
     ]
    },
    {
     "name": "stdout",
     "output_type": "stream",
     "text": [
      "Epoch: [15]  loss: [0.14] Orig_Acc [96.57] animal_Acc [99.69] random_Acc [99.43] \n"
     ]
    },
    {
     "name": "stderr",
     "output_type": "stream",
     "text": [
      "100%|██████████| 100/100 [00:12<00:00,  7.85it/s]\n",
      "  0%|          | 0/500 [00:00<?, ?it/s]"
     ]
    },
    {
     "name": "stdout",
     "output_type": "stream",
     "text": [
      "\n",
      "Test Epoch #15 Loss: 1.4317 Orig_Acc: 75.58% animal_Acc: 95.69% random_Acc: 87.38%\n"
     ]
    },
    {
     "name": "stderr",
     "output_type": "stream",
     "text": [
      "100%|██████████| 500/500 [04:52<00:00,  1.71it/s]\n",
      "  1%|          | 1/100 [00:00<00:13,  7.34it/s]"
     ]
    },
    {
     "name": "stdout",
     "output_type": "stream",
     "text": [
      "Epoch: [16]  loss: [0.09] Orig_Acc [98.15] animal_Acc [99.78] random_Acc [99.67] \n"
     ]
    },
    {
     "name": "stderr",
     "output_type": "stream",
     "text": [
      "100%|██████████| 100/100 [00:13<00:00,  7.38it/s]\n",
      "  0%|          | 0/500 [00:00<?, ?it/s]"
     ]
    },
    {
     "name": "stdout",
     "output_type": "stream",
     "text": [
      "\n",
      "Test Epoch #16 Loss: 1.4018 Orig_Acc: 77.22% animal_Acc: 96.22% random_Acc: 88.41%\n"
     ]
    },
    {
     "name": "stderr",
     "output_type": "stream",
     "text": [
      "100%|██████████| 500/500 [04:53<00:00,  1.70it/s]\n",
      "  1%|          | 1/100 [00:00<00:12,  7.84it/s]"
     ]
    },
    {
     "name": "stdout",
     "output_type": "stream",
     "text": [
      "Epoch: [17]  loss: [0.06] Orig_Acc [98.93] animal_Acc [99.92] random_Acc [99.79] \n"
     ]
    },
    {
     "name": "stderr",
     "output_type": "stream",
     "text": [
      "100%|██████████| 100/100 [00:12<00:00,  7.73it/s]\n",
      "  0%|          | 0/500 [00:00<?, ?it/s]"
     ]
    },
    {
     "name": "stdout",
     "output_type": "stream",
     "text": [
      "\n",
      "Test Epoch #17 Loss: 1.4052 Orig_Acc: 77.62% animal_Acc: 96.13% random_Acc: 88.96%\n"
     ]
    },
    {
     "name": "stderr",
     "output_type": "stream",
     "text": [
      "100%|██████████| 500/500 [04:53<00:00,  1.71it/s]\n",
      "  1%|          | 1/100 [00:00<00:12,  7.87it/s]"
     ]
    },
    {
     "name": "stdout",
     "output_type": "stream",
     "text": [
      "Epoch: [18]  loss: [0.04] Orig_Acc [99.41] animal_Acc [99.94] random_Acc [99.84] \n"
     ]
    },
    {
     "name": "stderr",
     "output_type": "stream",
     "text": [
      "100%|██████████| 100/100 [00:12<00:00,  7.73it/s]\n",
      "  0%|          | 0/500 [00:00<?, ?it/s]"
     ]
    },
    {
     "name": "stdout",
     "output_type": "stream",
     "text": [
      "\n",
      "Test Epoch #18 Loss: 1.4343 Orig_Acc: 77.58% animal_Acc: 95.40% random_Acc: 89.10%\n"
     ]
    },
    {
     "name": "stderr",
     "output_type": "stream",
     "text": [
      "100%|██████████| 500/500 [04:53<00:00,  1.70it/s]\n",
      "  1%|          | 1/100 [00:00<00:13,  7.20it/s]"
     ]
    },
    {
     "name": "stdout",
     "output_type": "stream",
     "text": [
      "Epoch: [19]  loss: [0.02] Orig_Acc [99.71] animal_Acc [99.97] random_Acc [99.92] \n"
     ]
    },
    {
     "name": "stderr",
     "output_type": "stream",
     "text": [
      "100%|██████████| 100/100 [00:13<00:00,  7.30it/s]\n",
      "  0%|          | 0/500 [00:00<?, ?it/s]"
     ]
    },
    {
     "name": "stdout",
     "output_type": "stream",
     "text": [
      "\n",
      "Test Epoch #19 Loss: 1.5017 Orig_Acc: 77.97% animal_Acc: 96.42% random_Acc: 86.56%\n"
     ]
    },
    {
     "name": "stderr",
     "output_type": "stream",
     "text": [
      "100%|██████████| 500/500 [04:53<00:00,  1.71it/s]\n",
      "  1%|          | 1/100 [00:00<00:12,  7.89it/s]"
     ]
    },
    {
     "name": "stdout",
     "output_type": "stream",
     "text": [
      "Epoch: [20]  loss: [0.02] Orig_Acc [99.72] animal_Acc [99.95] random_Acc [99.91] \n"
     ]
    },
    {
     "name": "stderr",
     "output_type": "stream",
     "text": [
      "100%|██████████| 100/100 [00:13<00:00,  7.65it/s]"
     ]
    },
    {
     "name": "stdout",
     "output_type": "stream",
     "text": [
      "\n",
      "Test Epoch #20 Loss: 1.4501 Orig_Acc: 78.12% animal_Acc: 96.52% random_Acc: 88.54%\n"
     ]
    },
    {
     "name": "stderr",
     "output_type": "stream",
     "text": [
      "\n"
     ]
    }
   ],
   "source": [
    "num_epochs = 20\n",
    "train_loss,test_loss = [],[]\n",
    "\n",
    "for epoch in range(num_epochs):\n",
    "    \n",
    "    a = train(net,train_loader,optimizer,criterion,epoch,device)\n",
    "    c,_,_,_ = tester(net,test_loader,optimizer,criterion,epoch,device)    \n",
    "    \n",
    "    train_loss.append(a), test_loss.append(c)"
   ]
  },
  {
   "cell_type": "code",
   "execution_count": null,
   "metadata": {},
   "outputs": [],
   "source": []
  },
  {
   "cell_type": "code",
   "execution_count": null,
   "metadata": {},
   "outputs": [],
   "source": []
  }
 ],
 "metadata": {
  "kernelspec": {
   "display_name": "CV",
   "language": "python",
   "name": "cv"
  },
  "language_info": {
   "codemirror_mode": {
    "name": "ipython",
    "version": 3
   },
   "file_extension": ".py",
   "mimetype": "text/x-python",
   "name": "python",
   "nbconvert_exporter": "python",
   "pygments_lexer": "ipython3",
   "version": "3.7.9"
  }
 },
 "nbformat": 4,
 "nbformat_minor": 4
}
